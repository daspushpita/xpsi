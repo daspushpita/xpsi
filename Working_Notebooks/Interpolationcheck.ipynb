{
 "cells": [
  {
   "cell_type": "code",
   "execution_count": 1,
   "metadata": {},
   "outputs": [],
   "source": [
    "import numpy as np\n",
    "import matplotlib.pyplot as plt\n",
    "import h5py as h5\n",
    "from matplotlib.ticker import NullFormatter\n",
    "import sys\n",
    "import scipy\n",
    "from __future__ import print_function, division\n",
    "\n",
    "import os\n",
    "import math\n",
    "import time\n",
    "\n",
    "from matplotlib import rcParams\n",
    "from matplotlib.ticker import MultipleLocator, AutoLocator, AutoMinorLocator\n",
    "from matplotlib import gridspec\n",
    "from matplotlib import cm"
   ]
  },
  {
   "cell_type": "code",
   "execution_count": 2,
   "metadata": {},
   "outputs": [
    {
     "name": "stdout",
     "output_type": "stream",
     "text": [
      "/=============================================\\\n",
      "| X-PSI: X-ray Pulse Simulation and Inference |\n",
      "|---------------------------------------------|\n",
      "|                Version: 1.2.1               |\n",
      "|---------------------------------------------|\n",
      "|      https://xpsi-group.github.io/xpsi      |\n",
      "\\=============================================/\n",
      "\n",
      "Imported GetDist version: 0.3.1\n",
      "Imported nestcheck version: 0.2.0\n"
     ]
    }
   ],
   "source": [
    "import xpsi"
   ]
  },
  {
   "cell_type": "code",
   "execution_count": 3,
   "metadata": {},
   "outputs": [],
   "source": [
    "from xpsi.global_imports import _c, _G, _dpr, gravradius, _csq, _km, _2pi"
   ]
  },
  {
   "cell_type": "code",
   "execution_count": 4,
   "metadata": {},
   "outputs": [
    {
     "name": "stdout",
     "output_type": "stream",
     "text": [
      "Creating parameter:\n",
      "    > Named \"frequency\" with fixed value 5.720e+02.\n",
      "    > Spin frequency [Hz].\n",
      "Creating parameter:\n",
      "    > Named \"mass\" with bounds [1.000e+00, 3.000e+00].\n",
      "    > Gravitational mass [solar masses].\n",
      "Creating parameter:\n",
      "    > Named \"radius\" with bounds [4.430e+00, 1.600e+01].\n",
      "    > Coordinate equatorial radius [km].\n",
      "Creating parameter:\n",
      "    > Named \"distance\" with bounds [1.000e-01, 1.000e+00].\n",
      "    > Earth distance [kpc].\n",
      "Creating parameter:\n",
      "    > Named \"cos_inclination\" with bounds [0.000e+00, 1.000e+00].\n",
      "    > Cosine of Earth inclination to rotation axis.\n"
     ]
    }
   ],
   "source": [
    "bounds = dict(distance = (0.1, 1.0),                     # (Earth) distance\n",
    "                mass = (1.0, 3.0),                       # mass\n",
    "                radius = (3.0 * gravradius(1.0), 16.0),  # equatorial radius\n",
    "                cos_inclination = (0.0, 1.0))      # (Earth) inclination to rotation axis\n",
    "\n",
    "spacetime = xpsi.Spacetime(bounds=bounds, values=dict(frequency=572.0))"
   ]
  },
  {
   "cell_type": "code",
   "execution_count": 5,
   "metadata": {},
   "outputs": [],
   "source": [
    "filename = '/home/pushpita/Documents/codes_dir/3D_final_runs/inc60/data_r+0.420D+01_n0508.csv'"
   ]
  },
  {
   "cell_type": "code",
   "execution_count": 6,
   "metadata": {},
   "outputs": [
    {
     "name": "stdout",
     "output_type": "stream",
     "text": [
      "Creating parameter:\n",
      "    > Named \"super_colatitude\" with bounds [0.000e+00, 3.142e+00].\n",
      "    > The colatitude of the centre of the superseding region [radians].\n",
      "Creating parameter:\n",
      "    > Named \"super_radius\" with bounds [0.000e+00, 1.571e+00].\n",
      "    > The angular radius of the (circular) superseding region [radians].\n",
      "Creating parameter:\n",
      "    > Named \"phase_shift\" with bounds [0.000e+00, 1.000e-01].\n",
      "    > The phase of the hot region, a periodic parameter [cycles].\n",
      "Creating parameter:\n",
      "    > Named \"super_temperature\" with bounds [3.000e+00, 7.600e+00].\n",
      "    > log10(superseding region effective temperature [K]).\n"
     ]
    }
   ],
   "source": [
    "bounds = dict(super_colatitude = (None, None),\n",
    "              super_radius = (None, None),\n",
    "              phase_shift = (0.0, 0.1),\n",
    "              super_temperature = (None, None))\n",
    "\n",
    "primary = xpsi.HotRegion(bounds=bounds,\n",
    "\t                    values={},\n",
    "\t                    symmetry=True,\n",
    "\t                    omit=False,\n",
    "\t                    cede=False,\n",
    "\t                    concentric=False,\n",
    "\t                    sqrt_num_cells=256,\n",
    "\t                    min_sqrt_num_cells=128,\n",
    "\t                    max_sqrt_num_cells=512,\n",
    "\t                    num_leaves=256,\n",
    "\t                    num_rays=400,\n",
    "\t                    prefix='p',\n",
    "\t\t\t\t\t\tmycoolgrid = True,\n",
    "\t\t\t\t\t\tfirst_spot = True,\n",
    "                        filename=filename)"
   ]
  },
  {
   "cell_type": "code",
   "execution_count": 7,
   "metadata": {},
   "outputs": [
    {
     "name": "stdout",
     "output_type": "stream",
     "text": [
      "Creating parameter:\n",
      "    > Named \"super_colatitude\" with bounds [0.000e+00, 3.142e+00].\n",
      "    > The colatitude of the centre of the superseding region [radians].\n",
      "Creating parameter:\n",
      "    > Named \"super_radius\" with bounds [0.000e+00, 1.571e+00].\n",
      "    > The angular radius of the (circular) superseding region [radians].\n",
      "Creating parameter:\n",
      "    > Named \"phase_shift\" with bounds [0.000e+00, 1.000e-01].\n",
      "    > The phase of the hot region, a periodic parameter [cycles].\n",
      "Creating parameter:\n",
      "    > Named \"super_temperature\" with bounds [3.000e+00, 7.600e+00].\n",
      "    > log10(superseding region effective temperature [K]).\n"
     ]
    }
   ],
   "source": [
    "secondary = xpsi.HotRegion(bounds=bounds,\n",
    "                              values={}, # no fixed/derived variables\n",
    "                              symmetry=True,\n",
    "                              omit=False,\n",
    "                              cede=False,\n",
    "                              concentric=False,\n",
    "                              sqrt_num_cells=256,\n",
    "                              min_sqrt_num_cells=128,\n",
    "                              max_sqrt_num_cells=512,\n",
    "                              num_leaves=256,\n",
    "                              num_rays=400,\n",
    "                              do_fast=False,\n",
    "                              is_secondary=False,\n",
    "                              is_antiphased=True,\n",
    "                              prefix='s',\n",
    "                              mycoolgrid = True,\n",
    "                              second_spot = True,\n",
    "                              filename = filename)\n",
    "\n",
    "from xpsi import HotRegions\n",
    "\n",
    "hot = HotRegions((primary, secondary))"
   ]
  },
  {
   "cell_type": "code",
   "execution_count": 8,
   "metadata": {},
   "outputs": [
    {
     "name": "stdout",
     "output_type": "stream",
     "text": [
      "Creating parameter:\n",
      "    > Named \"elsewhere_temperature\" with bounds [3.000e+00, 7.600e+00].\n",
      "    > log10 of the effective temperature elsewhere.\n"
     ]
    }
   ],
   "source": [
    "elsewhere = xpsi.Elsewhere(sqrt_num_cells=16,bounds=dict(elsewhere_temperature = (None,None)),\n",
    "                           mycoolgrid=False,\n",
    "                           myelsewhere=True,\n",
    "                           filename=filename)"
   ]
  },
  {
   "cell_type": "code",
   "execution_count": 9,
   "metadata": {},
   "outputs": [
    {
     "name": "stdout",
     "output_type": "stream",
     "text": [
      "Creating parameter:\n",
      "    > Named \"mode_frequency\" with fixed value 5.720e+02.\n",
      "    > Coordinate frequency of the mode of radiative asymmetry in the\n",
      "photosphere that is assumed to generate the pulsed signal [Hz].\n"
     ]
    },
    {
     "data": {
      "text/plain": [
       "Free parameters\n",
       "---------------\n",
       "mass: Gravitational mass [solar masses].\n",
       "radius: Coordinate equatorial radius [km].\n",
       "distance: Earth distance [kpc].\n",
       "cos_inclination: Cosine of Earth inclination to rotation axis.\n",
       "p__phase_shift: The phase of the hot region, a periodic parameter [cycles].\n",
       "p__super_colatitude: The colatitude of the centre of the superseding region [radians].\n",
       "p__super_radius: The angular radius of the (circular) superseding region [radians].\n",
       "p__super_temperature: log10(superseding region effective temperature [K]).\n",
       "s__phase_shift: The phase of the hot region, a periodic parameter [cycles].\n",
       "s__super_colatitude: The colatitude of the centre of the superseding region [radians].\n",
       "s__super_radius: The angular radius of the (circular) superseding region [radians].\n",
       "s__super_temperature: log10(superseding region effective temperature [K]).\n",
       "elsewhere_temperature: log10 of the effective temperature elsewhere."
      ]
     },
     "execution_count": 9,
     "metadata": {},
     "output_type": "execute_result"
    }
   ],
   "source": [
    "photosphere = xpsi.Photosphere(hot = hot, elsewhere = elsewhere,\n",
    "                               values=dict(mode_frequency = spacetime['frequency']))\n",
    "star = xpsi.Star(spacetime = spacetime, photospheres = photosphere)\n",
    "star"
   ]
  },
  {
   "cell_type": "code",
   "execution_count": 10,
   "metadata": {},
   "outputs": [
    {
     "data": {
      "text/plain": [
       "[Gravitational mass [solar masses] = 1.680e+00,\n",
       " Coordinate equatorial radius [km] = 1.050e+01,\n",
       " Earth distance [kpc] = 2.000e-01,\n",
       " Cosine of Earth inclination to rotation axis = -8.011e-01,\n",
       " The phase of the hot region, a periodic parameter [cycles] = 0.000e+00,\n",
       " The colatitude of the centre of the superseding region [radians] = 0.000e+00,\n",
       " The angular radius of the (circular) superseding region [radians] = 1.521e+00,\n",
       " log10(superseding region effective temperature [K]) = 5.000e+00,\n",
       " The phase of the hot region, a periodic parameter [cycles] = 0.000e+00,\n",
       " The colatitude of the centre of the superseding region [radians] = 3.142e+00,\n",
       " The angular radius of the (circular) superseding region [radians] = 1.521e+00,\n",
       " log10(superseding region effective temperature [K]) = 5.000e+00,\n",
       " log10 of the effective temperature elsewhere = 5.000e+00]"
      ]
     },
     "execution_count": 10,
     "metadata": {},
     "output_type": "execute_result"
    }
   ],
   "source": [
    "p = [1.68,\n",
    "     10.5,\n",
    "     0.2,\n",
    "     math.cos(2.5),\n",
    "     0.0,\n",
    "     0.0,\n",
    "     math.pi/2 - 0.05,\n",
    "     5.0,\n",
    "     0.0,\n",
    "     math.pi,\n",
    "     math.pi/2-0.05,\n",
    "     5.0,\n",
    "     5.0]\n",
    "\n",
    "star(p)\n",
    "star.params"
   ]
  },
  {
   "cell_type": "code",
   "execution_count": 11,
   "metadata": {},
   "outputs": [
    {
     "ename": "AttributeError",
     "evalue": "'Elsewhere' object has no attribute '_cellArea'",
     "output_type": "error",
     "traceback": [
      "\u001b[0;31m---------------------------------------------------------------------------\u001b[0m",
      "\u001b[0;31mAttributeError\u001b[0m                            Traceback (most recent call last)",
      "\u001b[0;32m<ipython-input-11-fc51eecd2699>\u001b[0m in \u001b[0;36m<module>\u001b[0;34m()\u001b[0m\n\u001b[1;32m      3\u001b[0m \u001b[0;31m#d = photosphere.embed\u001b[0m\u001b[0;34m\u001b[0m\u001b[0;34m\u001b[0m\u001b[0m\n\u001b[1;32m      4\u001b[0m \u001b[0menergies\u001b[0m \u001b[0;34m=\u001b[0m \u001b[0mnp\u001b[0m\u001b[0;34m.\u001b[0m\u001b[0mlogspace\u001b[0m\u001b[0;34m(\u001b[0m\u001b[0;34m-\u001b[0m\u001b[0;36m2.0\u001b[0m\u001b[0;34m,\u001b[0m \u001b[0mnp\u001b[0m\u001b[0;34m.\u001b[0m\u001b[0mlog10\u001b[0m\u001b[0;34m(\u001b[0m\u001b[0;36m5.0\u001b[0m\u001b[0;34m)\u001b[0m\u001b[0;34m,\u001b[0m \u001b[0;36m50\u001b[0m\u001b[0;34m,\u001b[0m \u001b[0mbase\u001b[0m\u001b[0;34m=\u001b[0m\u001b[0;36m10.0\u001b[0m\u001b[0;34m)\u001b[0m\u001b[0;34m\u001b[0m\u001b[0m\n\u001b[0;32m----> 5\u001b[0;31m \u001b[0mphotosphere\u001b[0m\u001b[0;34m.\u001b[0m\u001b[0mintegrate\u001b[0m\u001b[0;34m(\u001b[0m\u001b[0menergies\u001b[0m\u001b[0;34m,\u001b[0m \u001b[0mthreads\u001b[0m\u001b[0;34m=\u001b[0m\u001b[0;36m1\u001b[0m\u001b[0;34m)\u001b[0m \u001b[0;31m# the number of OpenMP threads to use\u001b[0m\u001b[0;34m\u001b[0m\u001b[0m\n\u001b[0m",
      "\u001b[0;32m/home/pushpita/anaconda3/envs/xpsi/lib/python2.7/site-packages/xpsi-1.2.1-py2.7-linux-x86_64.egg/xpsi/Photosphere.pyc\u001b[0m in \u001b[0;36mintegrate\u001b[0;34m(self, energies, threads)\u001b[0m\n\u001b[1;32m    317\u001b[0m                                                      \u001b[0menergies\u001b[0m\u001b[0;34m,\u001b[0m\u001b[0;34m\u001b[0m\u001b[0m\n\u001b[1;32m    318\u001b[0m                                                      \u001b[0mthreads\u001b[0m\u001b[0;34m,\u001b[0m\u001b[0;34m\u001b[0m\u001b[0m\n\u001b[0;32m--> 319\u001b[0;31m                                                      *self._elsewhere_atmosphere)\n\u001b[0m\u001b[1;32m    320\u001b[0m \u001b[0;34m\u001b[0m\u001b[0m\n\u001b[1;32m    321\u001b[0m             \u001b[0;32mif\u001b[0m \u001b[0mself\u001b[0m\u001b[0;34m.\u001b[0m\u001b[0m_hot\u001b[0m \u001b[0;32mis\u001b[0m \u001b[0;32mnot\u001b[0m \u001b[0mNone\u001b[0m\u001b[0;34m:\u001b[0m\u001b[0;34m\u001b[0m\u001b[0m\n",
      "\u001b[0;32m/home/pushpita/anaconda3/envs/xpsi/lib/python2.7/site-packages/xpsi-1.2.1-py2.7-linux-x86_64.egg/xpsi/Elsewhere.pyc\u001b[0m in \u001b[0;36mintegrate\u001b[0;34m(self, st, energies, threads, *atmosphere)\u001b[0m\n\u001b[1;32m    334\u001b[0m                            \u001b[0mst\u001b[0m\u001b[0;34m.\u001b[0m\u001b[0mi\u001b[0m\u001b[0;34m,\u001b[0m\u001b[0;34m\u001b[0m\u001b[0m\n\u001b[1;32m    335\u001b[0m                            \u001b[0mself\u001b[0m\u001b[0;34m.\u001b[0m\u001b[0m_sqrt_num_cells\u001b[0m\u001b[0;34m,\u001b[0m\u001b[0;34m\u001b[0m\u001b[0m\n\u001b[0;32m--> 336\u001b[0;31m                            \u001b[0mself\u001b[0m\u001b[0;34m.\u001b[0m\u001b[0m_cellArea\u001b[0m\u001b[0;34m,\u001b[0m\u001b[0;34m\u001b[0m\u001b[0m\n\u001b[0m\u001b[1;32m    337\u001b[0m                            \u001b[0mself\u001b[0m\u001b[0;34m.\u001b[0m\u001b[0m_r\u001b[0m\u001b[0;34m,\u001b[0m\u001b[0;34m\u001b[0m\u001b[0m\n\u001b[1;32m    338\u001b[0m                            \u001b[0mself\u001b[0m\u001b[0;34m.\u001b[0m\u001b[0m_r_s_over_r\u001b[0m\u001b[0;34m,\u001b[0m\u001b[0;34m\u001b[0m\u001b[0m\n",
      "\u001b[0;31mAttributeError\u001b[0m: 'Elsewhere' object has no attribute '_cellArea'"
     ]
    }
   ],
   "source": [
    "#star['cos_inclination'] = math.cos(50.*np.pi/180.)\n",
    "#star.update(force_update=True)\n",
    "#d = photosphere.embed\n",
    "energies = np.logspace(-2.0, np.log10(5.0), 50, base=10.0)\n",
    "photosphere.integrate(energies, threads=1) # the number of OpenMP threads to use"
   ]
  },
  {
   "cell_type": "code",
   "execution_count": null,
   "metadata": {},
   "outputs": [],
   "source": [
    "rcParams['text.usetex'] = False\n",
    "rcParams['font.size'] = 14.0\n",
    "\n",
    "def veneer(x, y, axes, lw=1.0, length=8, yticks=None):\n",
    "    \"\"\" Make the plots a little more aesthetically pleasing. \"\"\"\n",
    "    if x is not None:\n",
    "        if x[1] is not None:\n",
    "            axes.xaxis.set_major_locator(MultipleLocator(x[1]))\n",
    "        if x[0] is not None:\n",
    "            axes.xaxis.set_minor_locator(MultipleLocator(x[0]))\n",
    "    else:\n",
    "        axes.xaxis.set_major_locator(AutoLocator())\n",
    "        axes.xaxis.set_minor_locator(AutoMinorLocator())\n",
    "\n",
    "    if y is not None:\n",
    "        if y[1] is not None:\n",
    "            axes.yaxis.set_major_locator(MultipleLocator(y[1]))\n",
    "        if y[0] is not None:\n",
    "            axes.yaxis.set_minor_locator(MultipleLocator(y[0]))\n",
    "    else:\n",
    "        axes.yaxis.set_major_locator(AutoLocator())\n",
    "        axes.yaxis.set_minor_locator(AutoMinorLocator())\n",
    "\n",
    "    axes.tick_params(which='major', colors='black', length=length, width=lw)\n",
    "    axes.tick_params(which='minor', colors='black', length=int(length/2), width=lw)\n",
    "    plt.setp(axes.spines.values(), linewidth=lw, color='black')\n",
    "\n",
    "    if yticks:\n",
    "        axes.set_yticks(yticks)\n",
    "\n",
    "def plot_pulse():\n",
    "    \"\"\" Plot hot region signals before telescope operation. \"\"\"\n",
    "    fig = plt.figure(figsize=(7,7))\n",
    "    ax = fig.add_subplot(111)\n",
    "\n",
    "    ax.set_ylabel('Signal [arbitrary normalisation]')\n",
    "    ax.set_xlabel('Phase [cycles]')\n",
    "\n",
    "    temp = np.sum(photosphere.signal[0][0], axis=0)\n",
    "    temp1 = np.sum(photosphere.signal[0][0], axis=0)\n",
    "    #ax.plot(hot.phases_in_cycles[0], (temp)/np.max(temp), 'o-', color='k', lw=0.5, markersize=2)\n",
    "    ax.plot(hot.phases_in_cycles[0], photosphere.signal[0][0][1]/np.max(photosphere.signal[0][0][1]), 'o-', color='r', lw=0.5, markersize=2)\n",
    "    print(temp1+temp)\n",
    "    #veneer((0.05,0.2), (0.05,0.2), ax)\n",
    "_ = plot_pulse()"
   ]
  },
  {
   "cell_type": "code",
   "execution_count": null,
   "metadata": {},
   "outputs": [],
   "source": [
    "from xpsi.tools import phase_interpolator"
   ]
  },
  {
   "cell_type": "code",
   "execution_count": null,
   "metadata": {},
   "outputs": [],
   "source": [
    "def plot_2D_pulse(z, x, shift, y, ylabel,\n",
    "                  num_rotations=5.0, res=5000, cm=cm.viridis,\n",
    "                  yticks=None):\n",
    "    \"\"\" Helper function to plot a phase-energy pulse.\n",
    "\n",
    "    :param array-like z:\n",
    "        A pair of *ndarray[m,n]* objects representing the signal at\n",
    "        *n* phases and *m* values of an energy variable.\n",
    "\n",
    "    :param ndarray[n] x: Phases the signal is resolved at.\n",
    "\n",
    "    :param tuple shift: Hot region phase parameters.\n",
    "\n",
    "    :param ndarray[m] x: Energy values the signal is resolved at.\n",
    "\n",
    "    \"\"\"\n",
    "\n",
    "    fig = plt.figure(figsize = (12,6))\n",
    "\n",
    "    gs = gridspec.GridSpec(1, 2, width_ratios=[50,1], wspace=0.025)\n",
    "    ax = plt.subplot(gs[0])\n",
    "    ax_cb = plt.subplot(gs[1])\n",
    "\n",
    "    new_phases = np.linspace(0.0, num_rotations, res)\n",
    "\n",
    "    interpolated = phase_interpolator(new_phases,\n",
    "                                      x,\n",
    "                                      z[0], shift[0])\n",
    "    interpolated += phase_interpolator(new_phases,\n",
    "                                       x,\n",
    "                                       z[1], shift[1])\n",
    "\n",
    "    profile = ax.pcolormesh(new_phases,\n",
    "                             y,\n",
    "                             interpolated/np.max(interpolated),\n",
    "                             cmap = cm,\n",
    "                             linewidth = 0,\n",
    "                             rasterized = True)\n",
    "\n",
    "    profile.set_edgecolor('face')\n",
    "\n",
    "    ax.set_xlim([0.0, num_rotations])\n",
    "    ax.set_yscale('log')\n",
    "    ax.set_ylabel(ylabel)\n",
    "    ax.set_xlabel(r'Phase')\n",
    "    veneer((0.1, 0.5), (None,None), ax, yticks=yticks)\n",
    "    if yticks is not None:\n",
    "        ax.set_yticklabels(yticks)\n",
    "\n",
    "    cb = plt.colorbar(profile,\n",
    "                      cax = ax_cb,\n",
    "                      ticks = MultipleLocator(0.2))\n",
    "\n",
    "    cb.set_label(label=r'Signal (normalised by maximum)', labelpad=25)\n",
    "    cb.solids.set_edgecolor('face')\n",
    "\n",
    "    veneer((None, None), (0.05, None), ax_cb)\n",
    "    cb.outline.set_linewidth(1.0)"
   ]
  },
  {
   "cell_type": "code",
   "execution_count": null,
   "metadata": {},
   "outputs": [],
   "source": [
    "plot_2D_pulse((photosphere.signal[0][0], photosphere.signal[1][0]),\n",
    "              x=hot.phases_in_cycles[0],\n",
    "              shift=[ hot['p__phase_shift'], hot['s__phase_shift'] ],\n",
    "              y=energies,\n",
    "              ylabel=r'Energy (keV)',\n",
    "              yticks=[0.1,0.3,1.0,3.0])"
   ]
  },
  {
   "cell_type": "code",
   "execution_count": null,
   "metadata": {},
   "outputs": [],
   "source": [
    "print(photosphere.signal[0][0][0],np.shape(photosphere.signal),np.shape(hot.phases_in_cycles[0]))"
   ]
  },
  {
   "cell_type": "code",
   "execution_count": null,
   "metadata": {},
   "outputs": [],
   "source": [
    "fig = plt.figure(figsize = (100,50))\n",
    "\n",
    "gs = gridspec.GridSpec(1, 3, width_ratios=[50,50,1], wspace=0.2)\n",
    "ax = plt.subplot(gs[0])\n",
    "veneer((1,5), (1, 5), ax)\n",
    "\n",
    "# primary (lower colatitude) hot region\n",
    "h = hot.objects[0]\n",
    "z = h._HotRegion__cellArea[0]/np.max(h._HotRegion__cellArea[0])\n",
    "patches = plt.pcolormesh(z,\n",
    "                         vmin = np.min(z),\n",
    "                         vmax = np.max(z),\n",
    "                         cmap = cm.magma,\n",
    "                         linewidth = 1.0,\n",
    "                         rasterized = True,\n",
    "                         edgecolor='black')\n",
    "\n",
    "ax = plt.subplot(gs[1])\n",
    "veneer((1,5), (1, 5), ax)\n",
    "\n",
    "# secondary (higher colatitude) hot region\n",
    "h = hot.objects[1]\n",
    "z = h._HotRegion__cellArea[0]/np.max(h._HotRegion__cellArea[0])\n",
    "_ = plt.pcolormesh(z,\n",
    "                   vmin = np.min(z),\n",
    "                   vmax = np.max(z),\n",
    "                   cmap = cm.magma,\n",
    "                   linewidth = 1.0,\n",
    "                   rasterized = True,\n",
    "                   edgecolor='black')\n",
    "\n",
    "ax_cb = plt.subplot(gs[2])\n",
    "cb = plt.colorbar(patches,\n",
    "                  cax = ax_cb,\n",
    "                  ticks = MultipleLocator(0.2))\n",
    "\n",
    "cb.set_label(label = r'cell area (normalised by maximum)', labelpad=25)\n",
    "cb.solids.set_edgecolor('face')\n",
    "\n",
    "veneer((None, None), (0.05, None), ax_cb)\n",
    "cb.outline.set_linewidth(1.0)"
   ]
  },
  {
   "cell_type": "code",
   "execution_count": null,
   "metadata": {},
   "outputs": [],
   "source": [
    "fig = plt.figure(figsize = (20,7))\n",
    "\n",
    "gs = gridspec.GridSpec(1, 3, width_ratios=[50,50,1], wspace=0.2)\n",
    "ax = plt.subplot(gs[0])\n",
    "\n",
    "# primary (lower colatitude) hot region\n",
    "h = hot.objects[0]\n",
    "z = h._super_cellParamVecs[:,:,0]#/np.max(h._HotRegion__cellArea[0])\n",
    "patches = plt.pcolormesh(h._super_phi,\n",
    "                        h._super_theta,\n",
    "                        z,\n",
    "                        vmin = np.min(z),\n",
    "                        vmax = np.max(z),\n",
    "                        cmap = cm.magma,\n",
    "                        linewidth = 1.0,\n",
    "                        rasterized = True)\n",
    "\n",
    "ax = plt.subplot(gs[1])\n",
    "\n",
    "# secondary (higher colatitude) hot region\n",
    "h = hot.objects[1]\n",
    "z = h._super_cellParamVecs[:,:,0]#_HotRegion__cellArea[0]/np.max(h._HotRegion__cellArea[0])\n",
    "_ = plt.pcolormesh(h._super_phi,\n",
    "                    h._super_theta,\n",
    "                    z,\n",
    "                    vmin = np.min(z),\n",
    "                    vmax = np.max(z),\n",
    "                    cmap = cm.magma,\n",
    "                    linewidth = 1.0,\n",
    "                    rasterized = True)\n",
    "\n",
    "ax_cb = plt.subplot(gs[2])\n",
    "cb = plt.colorbar(patches,\n",
    "                  cax = ax_cb,\n",
    "                  ticks = MultipleLocator(0.2))\n",
    "\n",
    "cb.set_label(label = r'Temperatures', labelpad=25)\n",
    "cb.solids.set_edgecolor('face')\n",
    "\n",
    "veneer((None, None), (0.05, None), ax_cb)\n",
    "cb.outline.set_linewidth(1.0)\n"
   ]
  },
  {
   "cell_type": "code",
   "execution_count": null,
   "metadata": {},
   "outputs": [],
   "source": [
    "spacetime.a = 0.0 # spacetime spin parameter (~angular momentum)\n",
    "spacetime.q = 0.0 # spacetime mass quadrupole moment\n",
    "\n",
    "sky_map_kwargs = {'panel_indices': (0,1,2,3,4,5), # select energy indexes\n",
    "                  'num_levels': 500,\n",
    "                  'colormap': cm.Purples_r,\n",
    "                  'phase_average': True,\n",
    "                  'annotate_energies': True,\n",
    "                  'energy_annotation_format': '[%.2f keV]',\n",
    "                  'annotate_location': (0.025,0.025)} # do not phase average if you want to animate a sequence"
   ]
  },
  {
   "cell_type": "code",
   "execution_count": null,
   "metadata": {},
   "outputs": [],
   "source": [
    "animate_kwargs = {'cycles': 8, 'fps': 32}\n",
    "\n",
    "photosphere.image(reimage = True,\n",
    "                  cache_intensities = 1.0, # cache size limit in GBs\n",
    "                  energies = np.array([0.01,0.1,0.5,1.0,2.0,5.0]),\n",
    "                  phases = hot.phases_in_cycles[0] * _2pi,\n",
    "                  sqrt_num_rays = 400,\n",
    "                  threads = 4,\n",
    "                  max_steps = 100000,\n",
    "                  epsrel_ray = 1.0e-12,\n",
    "                  plot_sky_maps = True, # activate if you want to plot frames\n",
    "                  sky_map_kwargs = sky_map_kwargs,\n",
    "                  animate_sky_maps = True, # activate if you want to animate\n",
    "                  free_memory = True, # try to free ray-map/intensity cache memory before animating\n",
    "                  animate_kwargs = animate_kwargs)"
   ]
  },
  {
   "cell_type": "code",
   "execution_count": null,
   "metadata": {},
   "outputs": [],
   "source": [
    "import os\n",
    "import numpy as np\n",
    "import math\n",
    "\n",
    "from matplotlib import pyplot as plt\n",
    "import xpsi\n",
    "from xpsi.utilities.ProjectionTool import plot_projection_general"
   ]
  },
  {
   "cell_type": "code",
   "execution_count": null,
   "metadata": {},
   "outputs": [],
   "source": [
    "# EXAMPLE: ST+PDT (primary composed of a single temperature component and\n",
    "#          secondary of a double temperature hot spot with protruding superseding component)\n",
    "# setting the dictionary including the necessary parameters\n",
    "# EXAMPLE: ST-U, setting parameter values\n",
    "labels = ['mass',\n",
    "          'radius',\n",
    "          'cos_inclination',\n",
    "          's__phase_shift',\n",
    "          's__super_colatitude',\n",
    "          's__super_radius',\n",
    "          's__super_temperature',\n",
    "          'p__phase_shift',\n",
    "          'p__super_colatitude',\n",
    "          'p__super_radius',\n",
    "          'p__super_temperature',\n",
    "          'beta',\n",
    "          'column_density']\n",
    "\n",
    "values_2hsSTU = [ 1.4, 15,  0.1,  0,  math.pi,\n",
    "        math.pi/2 - 0.01,  6.15,  0,  0, math.pi/2 - 0.01,\n",
    "        6.1, 9.3, 0.8]\n",
    "\n",
    "P_dictionary_2hsSTU =  dict(zip(labels, values_2hsSTU))\n",
    "\n",
    "P_dictionary_2hsSTU"
   ]
  },
  {
   "cell_type": "code",
   "execution_count": null,
   "metadata": {},
   "outputs": [],
   "source": [
    "# from Earth and phase 0.\n",
    "plot_projection_general((P_dictionary_2hsSTU),\"ST+ST\",\"I\",\"NP\")\n"
   ]
  },
  {
   "cell_type": "code",
   "execution_count": null,
   "metadata": {},
   "outputs": [],
   "source": [
    "import numpy as np\n",
    "\n",
    "theta = np.linspace(0,np.pi,5)\n",
    "phi = np.linspace(-np.pi,np.pi,5)\n",
    "ph,th = np.meshgrid(phi,theta)\n",
    "\n",
    "d = np.ones((5,5,2))\n",
    "d[:,:,0] = th[:,:]\n",
    "print(d[:,:,:-1])\n",
    "print(d[:,:,-1])"
   ]
  },
  {
   "cell_type": "code",
   "execution_count": null,
   "metadata": {},
   "outputs": [],
   "source": [
    "xd1 = (xloc(1)-x(ic11,ic12,1)) / (x(ic21,ic12,1) - x(ic11,ic12,1))\n",
    "\n",
    "xd2 = (xloc(2)-x(ic11,ic12,2)) / (x(ic11,ic22,2) - x(ic11,ic12,2))\n",
    "\n",
    "c00 = gf(ic11,ic12) * (1.0d0 - xd1) + gf(ic21,ic12) * xd1\n",
    "c10 = gf(ic11,ic22) * (1.0d0 - xd1) + gf(ic21,ic22) * xd1\n",
    "\n",
    "gfloc  = c00 * (1.0d0 - xd2) + c10 * xd2\n"
   ]
  }
 ],
 "metadata": {
  "kernelspec": {
   "display_name": "Python 3",
   "language": "python",
   "name": "python3"
  },
  "language_info": {
   "codemirror_mode": {
    "name": "ipython",
    "version": 2
   },
   "file_extension": ".py",
   "mimetype": "text/x-python",
   "name": "python",
   "nbconvert_exporter": "python",
   "pygments_lexer": "ipython2",
   "version": "2.7.18"
  },
  "vscode": {
   "interpreter": {
    "hash": "3c60bbb20153d14ce315d5408db4f2dc043d5330cab043ff6b41ea0a57a03b0e"
   }
  }
 },
 "nbformat": 4,
 "nbformat_minor": 2
}
